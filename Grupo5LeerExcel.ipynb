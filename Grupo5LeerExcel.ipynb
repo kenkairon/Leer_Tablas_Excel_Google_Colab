{
  "nbformat": 4,
  "nbformat_minor": 0,
  "metadata": {
    "colab": {
      "provenance": [],
      "include_colab_link": true
    },
    "kernelspec": {
      "name": "python3",
      "display_name": "Python 3"
    },
    "language_info": {
      "name": "python"
    }
  },
  "cells": [
    {
      "cell_type": "markdown",
      "metadata": {
        "id": "view-in-github",
        "colab_type": "text"
      },
      "source": [
        "<a href=\"https://colab.research.google.com/github/kenkairon/Leer_Tablas_Excel_Google_Colab/blob/main/Grupo5LeerExcel.ipynb\" target=\"_parent\"><img src=\"https://colab.research.google.com/assets/colab-badge.svg\" alt=\"Open In Colab\"/></a>"
      ]
    },
    {
      "cell_type": "markdown",
      "source": [
        "**importa el módulo File desde la Biblioteca google.colab**"
      ],
      "metadata": {
        "id": "sYRJBbEZ8A9C"
      }
    },
    {
      "cell_type": "code",
      "execution_count": null,
      "metadata": {
        "id": "whQZDInA6EDz"
      },
      "outputs": [],
      "source": [
        "from google.colab import files"
      ]
    },
    {
      "cell_type": "markdown",
      "source": [],
      "metadata": {
        "id": "o5tlDS6V-E6i"
      }
    },
    {
      "cell_type": "markdown",
      "source": [
        "**Subir Archivos de Excel**"
      ],
      "metadata": {
        "id": "4vql_MXZt8fu"
      }
    },
    {
      "cell_type": "code",
      "source": [
        "uploaded = files.upload()"
      ],
      "metadata": {
        "colab": {
          "base_uri": "https://localhost:8080/",
          "height": 73
        },
        "id": "gXSwgr6wuK4X",
        "outputId": "74a1739d-5bfb-4a6f-ad70-085e1c38fb3b"
      },
      "execution_count": null,
      "outputs": [
        {
          "output_type": "display_data",
          "data": {
            "text/plain": [
              "<IPython.core.display.HTML object>"
            ],
            "text/html": [
              "\n",
              "     <input type=\"file\" id=\"files-07f6cb83-7d9c-468b-856f-31443721b28f\" name=\"files[]\" multiple disabled\n",
              "        style=\"border:none\" />\n",
              "     <output id=\"result-07f6cb83-7d9c-468b-856f-31443721b28f\">\n",
              "      Upload widget is only available when the cell has been executed in the\n",
              "      current browser session. Please rerun this cell to enable.\n",
              "      </output>\n",
              "      <script>// Copyright 2017 Google LLC\n",
              "//\n",
              "// Licensed under the Apache License, Version 2.0 (the \"License\");\n",
              "// you may not use this file except in compliance with the License.\n",
              "// You may obtain a copy of the License at\n",
              "//\n",
              "//      http://www.apache.org/licenses/LICENSE-2.0\n",
              "//\n",
              "// Unless required by applicable law or agreed to in writing, software\n",
              "// distributed under the License is distributed on an \"AS IS\" BASIS,\n",
              "// WITHOUT WARRANTIES OR CONDITIONS OF ANY KIND, either express or implied.\n",
              "// See the License for the specific language governing permissions and\n",
              "// limitations under the License.\n",
              "\n",
              "/**\n",
              " * @fileoverview Helpers for google.colab Python module.\n",
              " */\n",
              "(function(scope) {\n",
              "function span(text, styleAttributes = {}) {\n",
              "  const element = document.createElement('span');\n",
              "  element.textContent = text;\n",
              "  for (const key of Object.keys(styleAttributes)) {\n",
              "    element.style[key] = styleAttributes[key];\n",
              "  }\n",
              "  return element;\n",
              "}\n",
              "\n",
              "// Max number of bytes which will be uploaded at a time.\n",
              "const MAX_PAYLOAD_SIZE = 100 * 1024;\n",
              "\n",
              "function _uploadFiles(inputId, outputId) {\n",
              "  const steps = uploadFilesStep(inputId, outputId);\n",
              "  const outputElement = document.getElementById(outputId);\n",
              "  // Cache steps on the outputElement to make it available for the next call\n",
              "  // to uploadFilesContinue from Python.\n",
              "  outputElement.steps = steps;\n",
              "\n",
              "  return _uploadFilesContinue(outputId);\n",
              "}\n",
              "\n",
              "// This is roughly an async generator (not supported in the browser yet),\n",
              "// where there are multiple asynchronous steps and the Python side is going\n",
              "// to poll for completion of each step.\n",
              "// This uses a Promise to block the python side on completion of each step,\n",
              "// then passes the result of the previous step as the input to the next step.\n",
              "function _uploadFilesContinue(outputId) {\n",
              "  const outputElement = document.getElementById(outputId);\n",
              "  const steps = outputElement.steps;\n",
              "\n",
              "  const next = steps.next(outputElement.lastPromiseValue);\n",
              "  return Promise.resolve(next.value.promise).then((value) => {\n",
              "    // Cache the last promise value to make it available to the next\n",
              "    // step of the generator.\n",
              "    outputElement.lastPromiseValue = value;\n",
              "    return next.value.response;\n",
              "  });\n",
              "}\n",
              "\n",
              "/**\n",
              " * Generator function which is called between each async step of the upload\n",
              " * process.\n",
              " * @param {string} inputId Element ID of the input file picker element.\n",
              " * @param {string} outputId Element ID of the output display.\n",
              " * @return {!Iterable<!Object>} Iterable of next steps.\n",
              " */\n",
              "function* uploadFilesStep(inputId, outputId) {\n",
              "  const inputElement = document.getElementById(inputId);\n",
              "  inputElement.disabled = false;\n",
              "\n",
              "  const outputElement = document.getElementById(outputId);\n",
              "  outputElement.innerHTML = '';\n",
              "\n",
              "  const pickedPromise = new Promise((resolve) => {\n",
              "    inputElement.addEventListener('change', (e) => {\n",
              "      resolve(e.target.files);\n",
              "    });\n",
              "  });\n",
              "\n",
              "  const cancel = document.createElement('button');\n",
              "  inputElement.parentElement.appendChild(cancel);\n",
              "  cancel.textContent = 'Cancel upload';\n",
              "  const cancelPromise = new Promise((resolve) => {\n",
              "    cancel.onclick = () => {\n",
              "      resolve(null);\n",
              "    };\n",
              "  });\n",
              "\n",
              "  // Wait for the user to pick the files.\n",
              "  const files = yield {\n",
              "    promise: Promise.race([pickedPromise, cancelPromise]),\n",
              "    response: {\n",
              "      action: 'starting',\n",
              "    }\n",
              "  };\n",
              "\n",
              "  cancel.remove();\n",
              "\n",
              "  // Disable the input element since further picks are not allowed.\n",
              "  inputElement.disabled = true;\n",
              "\n",
              "  if (!files) {\n",
              "    return {\n",
              "      response: {\n",
              "        action: 'complete',\n",
              "      }\n",
              "    };\n",
              "  }\n",
              "\n",
              "  for (const file of files) {\n",
              "    const li = document.createElement('li');\n",
              "    li.append(span(file.name, {fontWeight: 'bold'}));\n",
              "    li.append(span(\n",
              "        `(${file.type || 'n/a'}) - ${file.size} bytes, ` +\n",
              "        `last modified: ${\n",
              "            file.lastModifiedDate ? file.lastModifiedDate.toLocaleDateString() :\n",
              "                                    'n/a'} - `));\n",
              "    const percent = span('0% done');\n",
              "    li.appendChild(percent);\n",
              "\n",
              "    outputElement.appendChild(li);\n",
              "\n",
              "    const fileDataPromise = new Promise((resolve) => {\n",
              "      const reader = new FileReader();\n",
              "      reader.onload = (e) => {\n",
              "        resolve(e.target.result);\n",
              "      };\n",
              "      reader.readAsArrayBuffer(file);\n",
              "    });\n",
              "    // Wait for the data to be ready.\n",
              "    let fileData = yield {\n",
              "      promise: fileDataPromise,\n",
              "      response: {\n",
              "        action: 'continue',\n",
              "      }\n",
              "    };\n",
              "\n",
              "    // Use a chunked sending to avoid message size limits. See b/62115660.\n",
              "    let position = 0;\n",
              "    do {\n",
              "      const length = Math.min(fileData.byteLength - position, MAX_PAYLOAD_SIZE);\n",
              "      const chunk = new Uint8Array(fileData, position, length);\n",
              "      position += length;\n",
              "\n",
              "      const base64 = btoa(String.fromCharCode.apply(null, chunk));\n",
              "      yield {\n",
              "        response: {\n",
              "          action: 'append',\n",
              "          file: file.name,\n",
              "          data: base64,\n",
              "        },\n",
              "      };\n",
              "\n",
              "      let percentDone = fileData.byteLength === 0 ?\n",
              "          100 :\n",
              "          Math.round((position / fileData.byteLength) * 100);\n",
              "      percent.textContent = `${percentDone}% done`;\n",
              "\n",
              "    } while (position < fileData.byteLength);\n",
              "  }\n",
              "\n",
              "  // All done.\n",
              "  yield {\n",
              "    response: {\n",
              "      action: 'complete',\n",
              "    }\n",
              "  };\n",
              "}\n",
              "\n",
              "scope.google = scope.google || {};\n",
              "scope.google.colab = scope.google.colab || {};\n",
              "scope.google.colab._files = {\n",
              "  _uploadFiles,\n",
              "  _uploadFilesContinue,\n",
              "};\n",
              "})(self);\n",
              "</script> "
            ]
          },
          "metadata": {}
        },
        {
          "output_type": "stream",
          "name": "stdout",
          "text": [
            "Saving people.xlsx to people (1).xlsx\n"
          ]
        }
      ]
    },
    {
      "cell_type": "markdown",
      "source": [
        "**importa la biblioteca openpyxl para trabajar archivos de Excel**"
      ],
      "metadata": {
        "id": "1n6X0jzr9IHz"
      }
    },
    {
      "cell_type": "code",
      "source": [
        "import openpyxl"
      ],
      "metadata": {
        "id": "UDCp-va-9fL3"
      },
      "execution_count": null,
      "outputs": []
    },
    {
      "cell_type": "markdown",
      "source": [
        "**Importa la biblioteca tabulate para formatear datos en tablas**\n"
      ],
      "metadata": {
        "id": "SuEfdx0v-KLF"
      }
    },
    {
      "cell_type": "code",
      "source": [
        "from tabulate import tabulate"
      ],
      "metadata": {
        "id": "0aQh_CW1-U9T"
      },
      "execution_count": null,
      "outputs": []
    },
    {
      "cell_type": "markdown",
      "source": [
        "**Carga archivo excel people.xlsx y lo almacena en excel dataframe, al cargar el archivo se crea un objeto libro de trabajo workbook que permite manipular las hojas del archivo excel**"
      ],
      "metadata": {
        "id": "G7eSH3g1AkSI"
      }
    },
    {
      "cell_type": "code",
      "source": [
        "excel_dataframe = openpyxl.load_workbook(\"people.xlsx\")"
      ],
      "metadata": {
        "id": "b7imU8rB93hi"
      },
      "execution_count": null,
      "outputs": []
    },
    {
      "cell_type": "markdown",
      "source": [
        "**Selecciona la Hoja Activa del Archivo Excel(La primera Hoja o la Hoja Actual ) generalmente es la primera hoja o la hoja que estaba abierta cuando el  archivo se guardó por última vez.**"
      ],
      "metadata": {
        "id": "5VQg84OOMEB9"
      }
    },
    {
      "cell_type": "code",
      "source": [
        "dataframe = excel_dataframe.active"
      ],
      "metadata": {
        "id": "OhCHSWR0MaLw"
      },
      "execution_count": null,
      "outputs": []
    },
    {
      "cell_type": "markdown",
      "source": [
        "**Inicializa una Lista Vacia para almacenar Datos que se extraerán del archivo Excel**"
      ],
      "metadata": {
        "id": "FtUzsGphN5O7"
      }
    },
    {
      "cell_type": "code",
      "source": [
        "data = []"
      ],
      "metadata": {
        "id": "yhbycgir93zg"
      },
      "execution_count": null,
      "outputs": []
    },
    {
      "cell_type": "markdown",
      "source": [
        "**1-Itera a través de las filas del Excel, comenzando desde la segunda fila (índice 1)**<br>\n",
        "**2-Crea una lista para almacenar los valores de cada fila, comenzando con el número de fila**<br>\n",
        "**3-Itera a través de las columnas en la fila actual**<br>\n",
        "**4-Agrega el valor de cada celda a la lista _row**<br>\n",
        "**5-Agrega la fila completa a la lista data**\n"
      ],
      "metadata": {
        "id": "X071wmpcOKQn"
      }
    },
    {
      "cell_type": "code",
      "source": [
        "for fila in range(1, dataframe.max_row):#1\n",
        "  filas = [fila,]#2\n",
        "  for columnas in dataframe.iter_cols(1, dataframe.max_column):#3\n",
        "    filas.append(columnas[fila].value)#4\n",
        "\n",
        "  data.append(filas)#5\n"
      ],
      "metadata": {
        "id": "HBMGqhYPOhss"
      },
      "execution_count": null,
      "outputs": []
    },
    {
      "cell_type": "markdown",
      "source": [
        "**Define los encabezados de la tabla**"
      ],
      "metadata": {
        "id": "7FMhq_IesZqN"
      }
    },
    {
      "cell_type": "code",
      "source": [
        "headers = [\"#\", \"id\", \"nombre\", \"edad\",\"Empresa\",\"Email\",\"Mac\"]"
      ],
      "metadata": {
        "id": "soG9ApThsyTx"
      },
      "execution_count": null,
      "outputs": []
    },
    {
      "cell_type": "markdown",
      "source": [
        "**Establece la alineación de las columnas (centrada para todas)**"
      ],
      "metadata": {
        "id": "IaCRl9wXs2By"
      }
    },
    {
      "cell_type": "code",
      "source": [
        "headers_align = (('center',) * 7)"
      ],
      "metadata": {
        "id": "UZbFsYjktEsn"
      },
      "execution_count": null,
      "outputs": []
    },
    {
      "cell_type": "markdown",
      "source": [
        "**Utiliza tabulate para formatear los datos como una tabla con los encabezados y alineación definidos**"
      ],
      "metadata": {
        "id": "hF67o7ontN13"
      }
    },
    {
      "cell_type": "code",
      "source": [
        "print(tabulate(data, headers, tablefmt=\"fancy_grid\", colalign=headers_align))"
      ],
      "metadata": {
        "colab": {
          "base_uri": "https://localhost:8080/"
        },
        "id": "8hg-vDl7tUbo",
        "outputId": "c7b29c1d-5cab-430c-a0ec-fe408affe0cf"
      },
      "execution_count": null,
      "outputs": [
        {
          "output_type": "stream",
          "name": "stdout",
          "text": [
            "╒═════╤══════╤══════════════════╤════════╤═══════════════════════════╤════════════════════════════╤═══════════════════╕\n",
            "│  #  │  id  │      nombre      │  edad  │          Empresa          │           Email            │        Mac        │\n",
            "╞═════╪══════╪══════════════════╪════════╪═══════════════════════════╪════════════════════════════╪═══════════════════╡\n",
            "│  1  │ 111  │   Jorge Nuñez    │   31   │       Smith-Holmes        │ brittanythomas@example.net │ 6b:af:c9:7c:5e:39 │\n",
            "├─────┼──────┼──────────────────┼────────┼───────────────────────────┼────────────────────────────┼───────────────────┤\n",
            "│  2  │ 222  │  Carlos Vásquez  │   29   │        Dunn-Flynn         │   nhumphrey@example.net    │ a9:d6:1b:41:c5:1d │\n",
            "├─────┼──────┼──────────────────┼────────┼───────────────────────────┼────────────────────────────┼───────────────────┤\n",
            "│  3  │ 333  │ Raymond Collins  │   27   │ Adkins, Stewart and Tran  │    phunter@example.org     │ 93:ab:4e:f1:73:6f │\n",
            "├─────┼──────┼──────────────────┼────────┼───────────────────────────┼────────────────────────────┼───────────────────┤\n",
            "│  4  │ 444  │    John Knox     │   32   │        Randall PLC        │     ameyer@example.com     │ f7:6c:1d:a3:58:da │\n",
            "├─────┼──────┼──────────────────┼────────┼───────────────────────────┼────────────────────────────┼───────────────────┤\n",
            "│  5  │ 555  │ Gregory Anderson │   37   │        Johnson PLC        │    zmorales@example.com    │ b6:a4:34:fe:de:87 │\n",
            "├─────┼──────┼──────────────────┼────────┼───────────────────────────┼────────────────────────────┼───────────────────┤\n",
            "│  6  │ 666  │ Jennifer Wright  │   19   │ Walsh, Bradley and Smith  │   jamesross@example.net    │ 26:95:5f:55:b5:51 │\n",
            "├─────┼──────┼──────────────────┼────────┼───────────────────────────┼────────────────────────────┼───────────────────┤\n",
            "│  7  │ 777  │  Kelly Salazar   │   23   │        Beasley Inc        │  stewartkaren@example.org  │ 14:1d:fb:90:95:d9 │\n",
            "├─────┼──────┼──────────────────┼────────┼───────────────────────────┼────────────────────────────┼───────────────────┤\n",
            "│  8  │ 888  │   Michael Lane   │   39   │        Cruz-Brooks        │     gwebb@example.com      │ 35:65:cb:3a:2e:83 │\n",
            "├─────┼──────┼──────────────────┼────────┼───────────────────────────┼────────────────────────────┼───────────────────┤\n",
            "│  9  │ 999  │   Emily Benson   │   41   │      Pierce-Gonzalez      │    xjohnson@example.org    │ fb:d6:78:da:9a:56 │\n",
            "├─────┼──────┼──────────────────┼────────┼───────────────────────────┼────────────────────────────┼───────────────────┤\n",
            "│ 10  │ 1000 │  Carrie Garcia   │   25   │ Valdez, White and Hopkins │    emily84@example.com     │ a0:5e:8a:e6:ee:59 │\n",
            "╘═════╧══════╧══════════════════╧════════╧═══════════════════════════╧════════════════════════════╧═══════════════════╛\n"
          ]
        }
      ]
    }
  ]
}